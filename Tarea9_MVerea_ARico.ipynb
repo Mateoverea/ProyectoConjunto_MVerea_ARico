{
 "cells": [
  {
   "cell_type": "markdown",
   "id": "8977bfe3",
   "metadata": {},
   "source": [
    "<img style=\"float: left; margin: 30px 15px 15px 15px;\" src=\"https://pngimage.net/wp-content/uploads/2018/06/logo-iteso-png-5.png\" width=\"300\" height=\"500\" /> \n",
    "    \n",
    "    \n",
    "### <font color='navy'> Simulación de procesos financieros\n",
    "\n",
    "**Nombres:**\n",
    "Mateo Verea Dorantes,\n",
    "Alejandra Rico\n",
    "\n",
    "**Fecha:** 22 de noviembre de 2021\n",
    "\n",
    "**Expediente** : \n",
    "    if709396\n",
    "    \n",
    "**Profesor:** Oscar David Jaramillo Zuluaga\n",
    "    \n",
    "**Link Github**: \n",
    "    \n",
    "# Tarea 9"
   ]
  },
  {
   "cell_type": "code",
   "execution_count": null,
   "id": "79397f2d",
   "metadata": {},
   "outputs": [],
   "source": []
  },
  {
   "cell_type": "code",
   "execution_count": null,
   "id": "feb556ad",
   "metadata": {},
   "outputs": [],
   "source": []
  }
 ],
 "metadata": {
  "kernelspec": {
   "display_name": "Python 3",
   "language": "python",
   "name": "python3"
  },
  "language_info": {
   "codemirror_mode": {
    "name": "ipython",
    "version": 3
   },
   "file_extension": ".py",
   "mimetype": "text/x-python",
   "name": "python",
   "nbconvert_exporter": "python",
   "pygments_lexer": "ipython3",
   "version": "3.8.8"
  }
 },
 "nbformat": 4,
 "nbformat_minor": 5
}

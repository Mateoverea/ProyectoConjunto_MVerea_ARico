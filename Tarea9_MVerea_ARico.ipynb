{
 "cells": [
  {
   "cell_type": "markdown",
   "id": "8977bfe3",
   "metadata": {},
   "source": [
    "<img style=\"float: left; margin: 30px 15px 15px 15px;\" src=\"https://pngimage.net/wp-content/uploads/2018/06/logo-iteso-png-5.png\" width=\"300\" height=\"500\" /> \n",
    "    \n",
    "    \n",
    "### <font color='navy'> Simulación de procesos financieros\n",
    "\n",
    "**Nombres:**\n",
    "Mateo Verea Dorantes,\n",
    "Alejandra Rico\n",
    "\n",
    "**Fecha:** 22 de noviembre de 2021\n",
    "\n",
    "**Expediente** : \n",
    "    if709396\n",
    "    \n",
    "**Profesor:** Oscar David Jaramillo Zuluaga\n",
    "    \n",
    "**Link Github**:https://github.com/Mateoverea/Tarea9-10_MVerea_ARico\n",
    "    \n",
    "# Tarea 9"
   ]
  },
  {
   "cell_type": "markdown",
   "id": "fb9d159a",
   "metadata": {},
   "source": [
    "Implementar el método de esquemas del trapecio, para valuar la opción call y put asiática con precio inicial, $S_0 = 100$, precio de ejercicio $K = 100$, tasa libre de riesgo $r = 0.10$, volatilidad $\\sigma = 0.20$ y $T = 1$ año. Cuyo precio es $\\approx 7.04$. Realizar la simulación en base a la siguiente tabla:\n",
    "![imagen.png](attachment:imagen.png)\n",
    "\n",
    "Observe que en esta tabla se encuentran los intervalos de confianza de la aproximación obtenida y además el tiempo de simulación que tarda en encontrar la respuesta cada método. \n",
    "- Se debe entonces realizar una simulación para la misma cantidad de trayectorias y número de pasos y construir una Dataframe de pandas para reportar todos los resultados obtenidos.**(70 puntos)**\n",
    "- Compare los resultados obtenidos con los resultados arrojados por la función `Riemann_approach`. Concluya. **(30 puntos)**"
   ]
  },
  {
   "cell_type": "code",
   "execution_count": null,
   "id": "feb556ad",
   "metadata": {},
   "outputs": [],
   "source": []
  }
 ],
 "metadata": {
  "kernelspec": {
   "display_name": "Python 3",
   "language": "python",
   "name": "python3"
  },
  "language_info": {
   "codemirror_mode": {
    "name": "ipython",
    "version": 3
   },
   "file_extension": ".py",
   "mimetype": "text/x-python",
   "name": "python",
   "nbconvert_exporter": "python",
   "pygments_lexer": "ipython3",
   "version": "3.8.8"
  }
 },
 "nbformat": 4,
 "nbformat_minor": 5
}
